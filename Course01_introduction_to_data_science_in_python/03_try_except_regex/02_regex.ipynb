{
 "cells": [
  {
   "cell_type": "markdown",
   "metadata": {},
   "source": [
    "## <font color='blue'> Trabalhando com Expressões Regulares em Python com ChatGPT</font>"
   ]
  },
  {
   "cell_type": "code",
   "execution_count": 1,
   "metadata": {},
   "outputs": [
    {
     "name": "stdout",
     "output_type": "stream",
     "text": [
      "Versão da Linguagem Python Usada Neste Jupyter Notebook: 3.9.13\n"
     ]
    }
   ],
   "source": [
    "# Versão da Linguagem Python\n",
    "from platform import python_version\n",
    "print('Versão da Linguagem Python Usada Neste Jupyter Notebook:', python_version())"
   ]
  },
  {
   "cell_type": "markdown",
   "metadata": {},
   "source": [
    "## Expressões Regulares\n",
    "\n",
    "Expressões regulares são padrões usados para combinar ou encontrar ocorrências de sequências de caracteres em uma string. Em Python, expressões regulares são geralmente usadas para manipular strings e realizar tarefas como validação de entrada de dados, extração de informações de strings e substituição de texto."
   ]
  },
  {
   "cell_type": "code",
   "execution_count": 2,
   "metadata": {},
   "outputs": [],
   "source": [
    "import re"
   ]
  },
  {
   "cell_type": "code",
   "execution_count": 3,
   "metadata": {},
   "outputs": [],
   "source": [
    "texto = \"Meu e-mail é exemplo@gmail.com e você pode me contatar em outro_email@yahoo.com.\"\n",
    "text = \"this is a good day\""
   ]
  },
  {
   "cell_type": "code",
   "execution_count": 4,
   "metadata": {},
   "outputs": [
    {
     "name": "stdout",
     "output_type": "stream",
     "text": [
      "O caractere '@' apareceu 2 vezes no texto.\n"
     ]
    }
   ],
   "source": [
    "# Expressão regular para contar quantas vezes o caracter arroba aparece no texto\n",
    "resultado = len(re.findall(\"@\", texto))\n",
    "print(\"O caractere '@' apareceu\", resultado, \"vezes no texto.\")"
   ]
  },
  {
   "cell_type": "code",
   "execution_count": 5,
   "metadata": {},
   "outputs": [
    {
     "name": "stdout",
     "output_type": "stream",
     "text": [
      "wonderfull\n"
     ]
    }
   ],
   "source": [
    "# Expressão regular para conhecer se um patrão está dentro de um texto. \n",
    "if re.search(\"good\", text):\n",
    "    print(\"wonderfull\")\n",
    "else:\n",
    "    print(\"not\")"
   ]
  },
  {
   "cell_type": "code",
   "execution_count": 6,
   "metadata": {},
   "outputs": [
    {
     "data": {
      "text/plain": [
       "['',\n",
       " 'e-mail é exemplo@gmail.com e você pode me contatar em outro_email@yahoo.com.']"
      ]
     },
     "execution_count": 6,
     "metadata": {},
     "output_type": "execute_result"
    }
   ],
   "source": [
    "# split um texto segundo um padrão eliminando o padrão\n",
    "re.split(\"Meu \", texto)"
   ]
  },
  {
   "cell_type": "code",
   "execution_count": 7,
   "metadata": {},
   "outputs": [
    {
     "data": {
      "text/plain": [
       "['M']"
      ]
     },
     "execution_count": 7,
     "metadata": {},
     "output_type": "execute_result"
    }
   ],
   "source": [
    "# usando ancorâ par aencontrar o primeiro elemento ao início de uma linha\n",
    "re.findall('^M', texto)"
   ]
  },
  {
   "cell_type": "code",
   "execution_count": 8,
   "metadata": {},
   "outputs": [
    {
     "name": "stdout",
     "output_type": "stream",
     "text": [
      "A palavra após 'você' é: pode\n"
     ]
    }
   ],
   "source": [
    "# Expressão regular para extrair a palavra que aparece após a palavra \"você\" em um texto\n",
    "resultado = re.findall(r'você (\\w+)', texto)\n",
    "print(\"A palavra após 'você' é:\", resultado[0])"
   ]
  },
  {
   "cell_type": "code",
   "execution_count": 9,
   "metadata": {},
   "outputs": [
    {
     "name": "stdout",
     "output_type": "stream",
     "text": [
      "A letra A aparece 19 vezes, a letra B 12 vezes e a letra C 9 vezes\n"
     ]
    }
   ],
   "source": [
    "# contar número de vezes que aparece a letra `A`, `B` e `C` no estring a seguir\n",
    "grade = 'AAABBBAAACAACBDDDDBAACBAAACBAACBBBBAACCAACCB'\n",
    "\n",
    "print('A letra A aparece {} vezes, a letra B {} vezes e a letra C {} vezes'.format(len(re.findall(\"A\", grade)), \n",
    "                  len(re.findall(\"B\", grade)), \n",
    "                  len(re.findall(\"C\", grade))))"
   ]
  },
  {
   "cell_type": "code",
   "execution_count": 10,
   "metadata": {
    "scrolled": true
   },
   "outputs": [
    {
     "name": "stdout",
     "output_type": "stream",
     "text": [
      "['A', 'A', 'A', 'B', 'B', 'B', 'A', 'A', 'A', 'A', 'A', 'B', 'B', 'A', 'A', 'B', 'A', 'A', 'A', 'B', 'A', 'A', 'B', 'B', 'B', 'B', 'A', 'A', 'A', 'A', 'B']\n"
     ]
    }
   ],
   "source": [
    "# encontrar as carateres com A ou B excluentes\n",
    "print(re.findall(\"[AB]\", grade))"
   ]
  },
  {
   "cell_type": "code",
   "execution_count": 11,
   "metadata": {},
   "outputs": [
    {
     "name": "stdout",
     "output_type": "stream",
     "text": [
      "['BA', 'BA', 'BA', 'BA', 'BA']\n",
      "['BA', 'BA', 'BA', 'BA', 'BA']\n"
     ]
    }
   ],
   "source": [
    "# encontrar a combinação os carateres B e A\n",
    "print(re.findall(\"[B][A]\", grade))\n",
    "print(re.findall(\"BA\", grade))"
   ]
  },
  {
   "cell_type": "code",
   "execution_count": 12,
   "metadata": {},
   "outputs": [
    {
     "name": "stdout",
     "output_type": "stream",
     "text": [
      "['AB', 'AC', 'AC', 'AC', 'AC', 'AC', 'AC', 'AC']\n",
      "['AB', 'AC', 'AC', 'AC', 'AC', 'AC', 'AC', 'AC']\n"
     ]
    }
   ],
   "source": [
    "# encontrar a sequencia AB ou AC\n",
    "print(re.findall(\"[A][B-C]\", grade))\n",
    "print(re.findall(\"AB|AC\", grade))"
   ]
  },
  {
   "cell_type": "code",
   "execution_count": 13,
   "metadata": {},
   "outputs": [
    {
     "name": "stdout",
     "output_type": "stream",
     "text": [
      "['B', 'B', 'B', 'C', 'C', 'B', 'D', 'D', 'D', 'D', 'B', 'C', 'B', 'C', 'B', 'C', 'B', 'B', 'B', 'B', 'C', 'C', 'C', 'C', 'B']\n"
     ]
    }
   ],
   "source": [
    "# procurar tudo o que não for A\n",
    "print(re.findall(\"[^A]\", grade))"
   ]
  },
  {
   "cell_type": "code",
   "execution_count": 14,
   "metadata": {},
   "outputs": [
    {
     "name": "stdout",
     "output_type": "stream",
     "text": [
      "[]\n"
     ]
    }
   ],
   "source": [
    "# encontrar pelo início de estring que não senja \"A\"\n",
    "print(re.findall(\"^[^A]\", grade))"
   ]
  },
  {
   "cell_type": "code",
   "execution_count": 15,
   "metadata": {},
   "outputs": [
    {
     "data": {
      "text/plain": [
       "['AAA', 'AAA', 'AA', 'AA', 'AAA', 'AA', 'AA', 'AA']"
      ]
     },
     "execution_count": 15,
     "metadata": {},
     "output_type": "execute_result"
    }
   ],
   "source": [
    "# quantificadores e{m, n}, e é o carater, m o mínimo de vezes da sequencia e n o máximo em que aparece uma sequência de string\n",
    "re.findall(\"A{2,10}\", grade) # sem espanho depois da vígula"
   ]
  },
  {
   "cell_type": "code",
   "execution_count": 16,
   "metadata": {},
   "outputs": [
    {
     "data": {
      "text/plain": [
       "['AACB', 'AACB', 'AAACB', 'AACBBBB', 'AACCB']"
      ]
     },
     "execution_count": 16,
     "metadata": {},
     "output_type": "execute_result"
    }
   ],
   "source": [
    "# Encontrar uma sequência com elementos repetidos na ordem dada com quanntificadores \n",
    "re.findall(\"A{1,10}C{1,10}B{1,10}\", grade)"
   ]
  },
  {
   "cell_type": "code",
   "execution_count": 17,
   "metadata": {},
   "outputs": [],
   "source": [
    "# uso de \\w match de carater alphanimérico a-z, A - z, e 0 - 9\n",
    "\n",
    "wiki = '''\n",
    "Source [edit]\n",
    "\n",
    "External links\n",
    "2004 CFR Title 34, Volume 1\n",
    "Family Educational Rights and Privacy Act (FERPA)\n",
    "G-T loses appeal of OSU pay records denial\n",
    "Inside Higher Ed's News\n",
    "vte\n",
    "Patriot Act\n",
    "Authority control databases Edit this at Wikidata\n",
    "Categories: 1974 in lawUnited States federal privacy legislationUnited States federal education legislation1974 in education1974 in the United States\n",
    "This page was last edited on 27 September 2023, at 15:29 (UTC).\n",
    "\n",
    "Title[edit]\n",
    "External links\n",
    "2004 CFR Title 34, Volume 1\n",
    "Family Educational Rights and Privacy Act (FERPA)\n",
    "G-T loses appeal of OSU pay records denial\n",
    "Inside Higher Ed's News\n",
    "vte\n",
    "Patriot Act\n",
    "Authority control databases Edit this at Wikidata\n",
    "Categories: 1974 in lawUnited States federal privacy legislationUnited States federal education legislation1974 in education1974 in the United States\n",
    "This page was last edited on 27 September 2023, at 15:29 (UTC).\n",
    "\n",
    "Reference [edit]\n",
    "External links\n",
    "2004 CFR Title 34, Volume 1\n",
    "Family Educational Rights and Privacy Act (FERPA)\n",
    "G-T loses appeal of OSU pay records denial\n",
    "Inside Higher Ed's News\n",
    "vte\n",
    "Patriot Act\n",
    "Authority control databases Edit this at Wikidata\n",
    "Categories: 1974 in lawUnited States federal privacy legislationUnited States federal education legislation1974 in education1974 in the United States\n",
    "This page was last edited on 27 September 2023, at 15:29 (UTC).\n",
    "\n",
    "'''"
   ]
  },
  {
   "cell_type": "code",
   "execution_count": 18,
   "metadata": {
    "scrolled": false
   },
   "outputs": [
    {
     "name": "stdout",
     "output_type": "stream",
     "text": [
      "['Source [edit]', 'Title[edit]', 'Reference [edit]']\n",
      "['Source [edit]', 'Title[edit]', 'Reference [edit]']\n"
     ]
    }
   ],
   "source": [
    "# formas equivalentes\n",
    "print(re.findall(\"[\\w]{1,50}\\s?\\[edit\\]\", wiki))\n",
    "print(re.findall(\"[\\w ]*\\[edit\\]\", wiki)) # zero o mais carater alphanumérico ou um espaço aois ele"
   ]
  },
  {
   "cell_type": "code",
   "execution_count": 19,
   "metadata": {},
   "outputs": [
    {
     "name": "stdout",
     "output_type": "stream",
     "text": [
      "['bat', 'bot']\n"
     ]
    }
   ],
   "source": [
    "string = 'bat, lat, mat, bet, let, met, bit, lit, mit, bot, lot, mot'\n",
    "result = re.findall('b[ao]t', string)\n",
    "print(result)"
   ]
  },
  {
   "cell_type": "code",
   "execution_count": 20,
   "metadata": {},
   "outputs": [
    {
     "data": {
      "text/plain": [
       "['Source ', 'Title', 'Reference ']"
      ]
     },
     "execution_count": 20,
     "metadata": {},
     "output_type": "execute_result"
    }
   ],
   "source": [
    "# Se pode usar em um loops para fatiar por um patrão \n",
    "[re.split(\"\\[edit\\]\", element)[0] for element in re.findall(\"[\\w]*\\s?\\[edit\\]\", wiki)]"
   ]
  },
  {
   "cell_type": "code",
   "execution_count": 21,
   "metadata": {
    "scrolled": true
   },
   "outputs": [
    {
     "data": {
      "text/plain": [
       "['Source [edit]', 'Title[edit]', 'Reference [edit]']"
      ]
     },
     "execution_count": 21,
     "metadata": {},
     "output_type": "execute_result"
    }
   ],
   "source": [
    "# Também se podem usar grupos, mas o retorno são grupos com os string desejados\n",
    "[element.group() for element in re.finditer(\"([\\w]*\\s?)(\\[edit\\])\", wiki)]"
   ]
  },
  {
   "cell_type": "code",
   "execution_count": 22,
   "metadata": {
    "scrolled": true
   },
   "outputs": [
    {
     "data": {
      "text/plain": [
       "[{'title': 'Source ', 'edit_link': '[edit]'},\n",
       " {'title': 'Title', 'edit_link': '[edit]'},\n",
       " {'title': 'Reference ', 'edit_link': '[edit]'}]"
      ]
     },
     "execution_count": 22,
     "metadata": {},
     "output_type": "execute_result"
    }
   ],
   "source": [
    "# Pode-se criar um dicionário \n",
    "[element.groupdict() for element in re.finditer(\"(?P<title>[\\w]*\\s?)(?P<edit_link>\\[edit\\])\", wiki)]"
   ]
  },
  {
   "cell_type": "code",
   "execution_count": 23,
   "metadata": {},
   "outputs": [
    {
     "data": {
      "text/plain": [
       "['Source ', '', 'Title', '', 'Reference ', '']"
      ]
     },
     "execution_count": 23,
     "metadata": {},
     "output_type": "execute_result"
    }
   ],
   "source": [
    "# Lookahead assertion A(?=B)\n",
    "[element for element in re.findall(\"([\\w]*[\\s]?)(?=\\[edit\\])\", wiki)]"
   ]
  },
  {
   "cell_type": "code",
   "execution_count": 24,
   "metadata": {},
   "outputs": [
    {
     "data": {
      "text/plain": [
       "['www.aBC.com', 'abc.com', 'ab_c.de8f.com']"
      ]
     },
     "execution_count": 24,
     "metadata": {},
     "output_type": "execute_result"
    }
   ],
   "source": [
    "link = \"www.aBC.com, abc.com, ab_c.de8f.com\"\n",
    "re.findall(\"[\\w]*[.]?[\\w]+[.][\\w]+\", link)"
   ]
  },
  {
   "cell_type": "code",
   "execution_count": 25,
   "metadata": {},
   "outputs": [],
   "source": [
    "import re \n",
    "text = \"\"\"\"\n",
    "146.204.224.152 - feest6811 [21/Jun/2019:15:45:24 -0700] \"POST /incentivize HTTP/1.1\" 302 4622\n",
    "159.253.153.40 - - [21/Jun/2019:15:46:10 -0700] \"POST /e-business HTTP/1.0\" 504 19845\n",
    "\"\"\""
   ]
  },
  {
   "cell_type": "code",
   "execution_count": 26,
   "metadata": {
    "scrolled": false
   },
   "outputs": [
    {
     "data": {
      "text/plain": [
       "<callable_iterator at 0x21bd43e6a60>"
      ]
     },
     "execution_count": 26,
     "metadata": {},
     "output_type": "execute_result"
    }
   ],
   "source": [
    "# criar dicionário pulando carateres seguidos\n",
    "pattern = '''(?P<host>[\\d.]+)(?:\\s-\\s)(?P<user_name>[\\w-]+)(?:\\s\\[)(?P<time>[\\w\\/:\\s-]+)(?:]\\s\")(?P<request>[\\w\\s\\/.-]+)'''\n",
    "re.finditer(pattern, text)\n"
   ]
  },
  {
   "cell_type": "code",
   "execution_count": 27,
   "metadata": {},
   "outputs": [],
   "source": [
    "result = [i.groupdict() for i in re.finditer(pattern, text)]"
   ]
  },
  {
   "cell_type": "code",
   "execution_count": 28,
   "metadata": {
    "scrolled": true
   },
   "outputs": [
    {
     "data": {
      "text/plain": [
       "2"
      ]
     },
     "execution_count": 28,
     "metadata": {},
     "output_type": "execute_result"
    }
   ],
   "source": [
    "len(result)"
   ]
  },
  {
   "cell_type": "code",
   "execution_count": 29,
   "metadata": {},
   "outputs": [],
   "source": [
    "one_item={'host': '146.204.224.152',\n",
    "  'user_name': 'feest6811',\n",
    "  'time': '21/Jun/2019:15:45:24 -0700',\n",
    "  'request': 'POST /incentivize HTTP/1.1'}\n",
    "\n",
    "assert one_item in result, \"Sorry, this item should be in the log results, check your formating\""
   ]
  },
  {
   "cell_type": "code",
   "execution_count": 30,
   "metadata": {},
   "outputs": [
    {
     "data": {
      "text/plain": [
       "[{'host': '146.204.224.152',\n",
       "  'user_name': 'feest6811',\n",
       "  'time': '21/Jun/2019:15:45:24 -0700',\n",
       "  'request': 'POST /incentivize HTTP/1.1'},\n",
       " {'host': '159.253.153.40',\n",
       "  'user_name': '-',\n",
       "  'time': '21/Jun/2019:15:46:10 -0700',\n",
       "  'request': 'POST /e-business HTTP/1.0'}]"
      ]
     },
     "execution_count": 30,
     "metadata": {},
     "output_type": "execute_result"
    }
   ],
   "source": [
    "result"
   ]
  },
  {
   "cell_type": "markdown",
   "metadata": {},
   "source": [
    "# Fim"
   ]
  },
  {
   "cell_type": "markdown",
   "metadata": {},
   "source": [
    "### Obrigado"
   ]
  }
 ],
 "metadata": {
  "kernelspec": {
   "display_name": "Python 3 (ipykernel)",
   "language": "python",
   "name": "python3"
  },
  "language_info": {
   "codemirror_mode": {
    "name": "ipython",
    "version": 3
   },
   "file_extension": ".py",
   "mimetype": "text/x-python",
   "name": "python",
   "nbconvert_exporter": "python",
   "pygments_lexer": "ipython3",
   "version": "3.9.13"
  }
 },
 "nbformat": 4,
 "nbformat_minor": 1
}
